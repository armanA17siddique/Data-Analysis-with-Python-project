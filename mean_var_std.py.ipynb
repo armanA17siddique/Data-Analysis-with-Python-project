{
 "cells": [
  {
   "cell_type": "code",
   "execution_count": 1,
   "id": "ec7cd8cf-2ccf-4132-b4c7-f74eb5d52b2a",
   "metadata": {},
   "outputs": [],
   "source": [
    "import numpy as np\n",
    "\n",
    "def calculate(data):\n",
    "    \"\"\"\n",
    "    Calculates the mean, variance, standard deviation, max, min, and sum\n",
    "    of rows, columns, and elements in a 3x3 matrix.\n",
    "\n",
    "    Args:\n",
    "        data (list): A list containing 9 digits.\n",
    "\n",
    "    Returns:\n",
    "        dict: A dictionary containing the calculated statistics.\n",
    "              Format:\n",
    "              {\n",
    "                'mean': [axis1, axis2, flattened],\n",
    "                'variance': [axis1, axis2, flattened],\n",
    "                'standard deviation': [axis1, axis2, flattened],\n",
    "                'max': [axis1, axis2, flattened],\n",
    "                'min': [axis1, axis2, flattened],\n",
    "                'sum': [axis1, axis2, flattened]\n",
    "              }\n",
    "\n",
    "    Raises:\n",
    "        ValueError: If the input list does not contain exactly 9 numbers.\n",
    "    \"\"\"\n",
    "    if len(data) != 9:\n",
    "        raise ValueError(\"List must contain nine numbers.\")\n",
    "\n",
    "    # Convert the list to a 3x3 NumPy array\n",
    "    matrix = np.array(data).reshape(3, 3)\n",
    "\n",
    "    calculations = {}\n",
    "\n",
    "    # Helper function to get the statistics along axis 0, axis 1, and flattened\n",
    "    def get_stats(func):\n",
    "        return [\n",
    "            func(matrix, axis=0).tolist(),  # axis 0 (columns)\n",
    "            func(matrix, axis=1).tolist(),  # axis 1 (rows)\n",
    "            func(matrix).tolist()          # flattened\n",
    "        ]\n",
    "\n",
    "    calculations['mean'] = get_stats(np.mean)\n",
    "    calculations['variance'] = get_stats(np.var)\n",
    "    calculations['standard deviation'] = get_stats(np.std)\n",
    "    calculations['max'] = get_stats(np.max)\n",
    "    calculations['min'] = get_stats(np.min)\n",
    "    calculations['sum'] = get_stats(np.sum)\n",
    "\n",
    "    return calculations"
   ]
  },
  {
   "cell_type": "code",
   "execution_count": 2,
   "id": "339cae53-5031-4338-a495-7093677dce20",
   "metadata": {
    "scrolled": true
   },
   "outputs": [
    {
     "name": "stdout",
     "output_type": "stream",
     "text": [
      "Result for valid input:\n",
      "  mean: [[3.0, 4.0, 5.0], [1.0, 4.0, 7.0], 4.0]\n",
      "  variance: [[6.0, 6.0, 6.0], [0.6666666666666666, 0.6666666666666666, 0.6666666666666666], 6.666666666666667]\n",
      "  standard deviation: [[2.449489742783178, 2.449489742783178, 2.449489742783178], [0.816496580927726, 0.816496580927726, 0.816496580927726], 2.581988897471611]\n",
      "  max: [[6, 7, 8], [2, 5, 8], 8]\n",
      "  min: [[0, 1, 2], [0, 3, 6], 0]\n",
      "  sum: [[9, 12, 15], [3, 12, 21], 36]\n",
      "\n",
      "==============================\n",
      "\n",
      "Caught expected error for invalid input: List must contain nine numbers.\n",
      "\n",
      "==============================\n",
      "\n",
      "Result for another valid input:\n",
      "  mean: [[6.0, 5.0, 4.0], [8.0, 5.0, 2.0], 5.0]\n",
      "  variance: [[6.0, 6.0, 6.0], [0.6666666666666666, 0.6666666666666666, 0.6666666666666666], 6.666666666666667]\n",
      "  standard deviation: [[2.449489742783178, 2.449489742783178, 2.449489742783178], [0.816496580927726, 0.816496580927726, 0.816496580927726], 2.581988897471611]\n",
      "  max: [[9, 8, 7], [9, 6, 3], 9]\n",
      "  min: [[3, 2, 1], [7, 4, 1], 1]\n",
      "  sum: [[18, 15, 12], [24, 15, 6], 45]\n"
     ]
    }
   ],
   "source": [
    "# Example 1: Valid input\n",
    "data1 = [0, 1, 2, 3, 4, 5, 6, 7, 8]\n",
    "result1 = calculate(data1)\n",
    "print(\"Result for valid input:\")\n",
    "for key, value in result1.items():\n",
    "    print(f\"  {key}: {value}\")\n",
    "\n",
    "print(\"\\n\" + \"=\"*30 + \"\\n\")\n",
    "\n",
    "# Example 2: Invalid input (less than 9 numbers) - this will raise an error\n",
    "try:\n",
    "    data2 = [1, 2, 3]\n",
    "    result2 = calculate(data2)\n",
    "    print(\"Result for invalid input (should not be reached):\", result2)\n",
    "except ValueError as e:\n",
    "    print(f\"Caught expected error for invalid input: {e}\")\n",
    "\n",
    "print(\"\\n\" + \"=\"*30 + \"\\n\")\n",
    "\n",
    "# Example 3: Another valid input\n",
    "data3 = [9, 8, 7, 6, 5, 4, 3, 2, 1]\n",
    "result3 = calculate(data3)\n",
    "print(\"Result for another valid input:\")\n",
    "for key, value in result3.items():\n",
    "    print(f\"  {key}: {value}\")"
   ]
  }
 ],
 "metadata": {
  "kernelspec": {
   "display_name": "Python 3 (ipykernel)",
   "language": "python",
   "name": "python3"
  },
  "language_info": {
   "codemirror_mode": {
    "name": "ipython",
    "version": 3
   },
   "file_extension": ".py",
   "mimetype": "text/x-python",
   "name": "python",
   "nbconvert_exporter": "python",
   "pygments_lexer": "ipython3",
   "version": "3.12.0"
  }
 },
 "nbformat": 4,
 "nbformat_minor": 5
}
